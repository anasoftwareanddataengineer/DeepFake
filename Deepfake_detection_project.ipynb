{
  "nbformat": 4,
  "nbformat_minor": 0,
  "metadata": {
    "colab": {
      "name": "Deepfake_detection_project.ipynb",
      "provenance": []
    },
    "kernelspec": {
      "name": "python3",
      "display_name": "Python 3"
    },
    "language_info": {
      "name": "python"
    }
  },
  "cells": [
    {
      "cell_type": "code",
      "metadata": {
        "colab": {
          "base_uri": "https://localhost:8080/"
        },
        "id": "_F9sm0lyZFMg",
        "outputId": "f04aeeda-2fe3-41e8-cbb5-b614e0df41e2"
      },
      "source": [
        "pip install Pillow"
      ],
      "execution_count": 20,
      "outputs": [
        {
          "output_type": "stream",
          "text": [
            "Requirement already satisfied: Pillow in /usr/local/lib/python3.7/dist-packages (7.1.2)\n"
          ],
          "name": "stdout"
        }
      ]
    },
    {
      "cell_type": "code",
      "metadata": {
        "colab": {
          "base_uri": "https://localhost:8080/"
        },
        "id": "YCH3zdcKF7sf",
        "outputId": "5f0ed3ad-888f-46f8-9830-a7e646e41ab8"
      },
      "source": [
        "from google.colab import drive\n",
        "drive.mount('/content/drive')"
      ],
      "execution_count": 21,
      "outputs": [
        {
          "output_type": "stream",
          "text": [
            "Drive already mounted at /content/drive; to attempt to forcibly remount, call drive.mount(\"/content/drive\", force_remount=True).\n"
          ],
          "name": "stdout"
        }
      ]
    },
    {
      "cell_type": "markdown",
      "metadata": {
        "id": "fvWjoDznkN1I"
      },
      "source": [
        "CAPTURING THE IMAGES (using the dlib face detector to convert video to face images)"
      ]
    },
    {
      "cell_type": "code",
      "metadata": {
        "id": "0IXk_xT_jiy_"
      },
      "source": [
        "import dlib \n",
        "import cv2\n",
        "import os\n",
        "import json "
      ],
      "execution_count": 22,
      "outputs": []
    },
    {
      "cell_type": "code",
      "metadata": {
        "id": "FDS44g_VjqSq"
      },
      "source": [
        "train_frame_path = '/content/drive/MyDrive/DeepfakeProject/train_videos (1)'\n",
        "\n",
        "with open(os.path.join(train_frame_path, 'metadata.json'), 'r') as file: # os.path.join - returns a string which represents the concatenated path components\n",
        "    data = json.load(file)\n",
        "#f = open('/content/drive/MyDrive/DeepfakeProject/train_videos/metadata.json',)\n",
        "#data = json.load(f)\n",
        "train_data_list = [f for f in os.listdir(train_frame_path) if f.endswith('.mp4')] # listdir() - returns a list containing the names of the entries in the directory given by path\n",
        "detector = dlib.get_frontal_face_detector() #loading the detector\n",
        "for vid in train_data_list:\n",
        "    count = 0\n",
        "    capture = cv2.VideoCapture(os.path.join(train_frame_path, vid)) \n",
        "    frame_rate = capture.get(5) #CAP_PROP_FPS - frame rate.\n",
        "    while capture.isOpened(): # returns true if video capturing has been initialized \n",
        "        frame_ID = capture.get(1) # CAP_PROP_POS_FRAMES - 0-based index of the frame to be decoded/captured next\n",
        "        ret, frame = capture.read() # Capture frame-by-frame, it returns a bool (True/False) - if a frame is read correctly, it will be True, if not, it will be False\n",
        "        if ret != True:\n",
        "          break\n",
        "        if frame_ID % ((int(frame_rate)+1)*1) == 0:\n",
        "            face_rects, scores, idx = detector.run(frame, 0) # detector.run - runs the object detector on the input image and returns \n",
        "                                                             # a list of detections, a list of scores and a list of weight_indices\n",
        "            for i, d in enumerate(face_rects): #enumarating the left,top,right and bottom edges of all face rectangles\n",
        "                x1 = d.left()\n",
        "                y1 = d.top()\n",
        "                x2 = d.right()\n",
        "                y2 = d.bottom()\n",
        "                crop_image = frame[y1:y2, x1:x2] #croping the images based on the rectangles \n",
        "                if data[vid]['label'] == 'REAL':\n",
        "                    try:\n",
        "                      cv2.imwrite('/content/drive/MyDrive/DeepfakeProject/dataset/real/'+vid.split('.')[0]+'_'+str(count)+'.png', cv2.resize(crop_image, (128, 128)))# Saving the image\n",
        "                    except:\n",
        "                        break\n",
        "                elif data[vid]['label'] == 'FAKE':\n",
        "                  try:\n",
        "                    cv2.imwrite('/content/drive/MyDrive/DeepfakeProject/dataset/fake/'+vid.split('.')[0]+'_'+str(count)+'.png', cv2.resize(crop_image, (128, 128)))# Saving the image\n",
        "                  except:\n",
        "                    break\n",
        "                count+=1"
      ],
      "execution_count": 23,
      "outputs": []
    },
    {
      "cell_type": "markdown",
      "metadata": {
        "id": "XaGN-FhUkWjF"
      },
      "source": [
        "TRAINING THE DEEPFAKE DETECTION (training the dataset with captured images and outputing the model file)"
      ]
    },
    {
      "cell_type": "code",
      "metadata": {
        "id": "Is78LNxIkcqi"
      },
      "source": [
        "import tensorflow as tf\n",
        "import numpy as np\n",
        "import matplotlib.pyplot as plt\n",
        "import seaborn as sn\n",
        "import pandas as pd\n",
        "\n",
        "from tensorflow.keras.preprocessing.image import ImageDataGenerator,img_to_array,load_img\n",
        "from tensorflow.keras.utils import to_categorical\n",
        "from sklearn.model_selection import train_test_split\n",
        "from sklearn.metrics import confusion_matrix"
      ],
      "execution_count": 24,
      "outputs": []
    },
    {
      "cell_type": "code",
      "metadata": {
        "id": "eNME1UYkmiUN"
      },
      "source": [
        "input_shape = (128,128,3)\n",
        "data_directory = '/content/drive/MyDrive/DeepfakeProject/dataset'\n",
        "\n",
        "real_data = [f for f in os.listdir(data_directory+'/real') if f.endswith('.png')] #defining the data\n",
        "fake_data = [f for f in os.listdir(data_directory+'/fake') if f.endswith('.png')]\n",
        "\n",
        "X=[]\n",
        "Y=[]\n",
        "\n",
        "for image in real_data:\n",
        "  X.append(img_to_array(load_img(data_directory+'/real/'+image)).flatten()/255.0) #return a copy of the array collapsed into one dimension then divide it by 255 to bring the pixel values between 0 and 1\n",
        "  Y.append(1)\n",
        "for image in fake_data:\n",
        "  X.append(img_to_array(load_img(data_directory+'/fake/'+image)).flatten()/255.0)\n",
        "  Y.append(0)\n",
        "  \n",
        "Y_original = Y\n",
        "\n",
        "#Normalizing the data \n",
        "X = np.array(X)\n",
        "Y = to_categorical(Y,2) #returns a matrix of binary values with the number of rows equal to the length of the input vector and the number of columns equal to the number of classes\n",
        "\n",
        "#Reshaping \n",
        "X=X.reshape(-1,128,128,3)\n",
        "\n",
        "X_train, X_test, Y_train, Y_test = train_test_split(X,Y,test_size=0.4, random_state=5)"
      ],
      "execution_count": 25,
      "outputs": []
    },
    {
      "cell_type": "code",
      "metadata": {
        "id": "WIthHidzsr37"
      },
      "source": [
        "from tensorflow.keras.applications import InceptionResNetV2\n",
        "from tensorflow.keras.layers import Conv2D\n",
        "from tensorflow.keras.layers import MaxPooling2D\n",
        "from tensorflow.keras.layers import Flatten\n",
        "from tensorflow.keras.layers import Dense\n",
        "from tensorflow.keras.layers import Dropout\n",
        "from tensorflow.keras.layers import InputLayer\n",
        "from tensorflow.keras.layers import GlobalAveragePooling2D\n",
        "from tensorflow.keras.models import Sequential\n",
        "from tensorflow.keras.models import Model\n",
        "from tensorflow.keras import optimizers\n",
        "from tensorflow.keras.callbacks import ReduceLROnPlateau"
      ],
      "execution_count": 26,
      "outputs": []
    },
    {
      "cell_type": "code",
      "metadata": {
        "colab": {
          "base_uri": "https://localhost:8080/"
        },
        "id": "URlJVrygwNFB",
        "outputId": "55bda66a-41e5-46aa-f810-ce00bd7883b9"
      },
      "source": [
        "googleNet_model = InceptionResNetV2(include_top=False, weights='imagenet', input_shape=input_shape)\n",
        "googleNet_model.trainable = True\n",
        "\n",
        "model = Sequential() #creating a sequential model \n",
        "model.add(googleNet_model)\n",
        "model.add(GlobalAveragePooling2D()) #adding a global average pooling operation for spatial data to get a 2D tensor with shape (batch_size, channels)\n",
        "model.add(Dropout(0.6)) \n",
        "model.add(Dense(units=2, activation='softmax')) #softmax converts a real vector to a vector of categorical probabilities; the elements of the output vector are in range (0, 1) and sum to 1\n",
        "\n",
        "#configuring the model with losses and metrics\n",
        "model.compile(loss='binary_crossentropy', #computes the cross-entropy loss between true labels and predicted labels\n",
        "              optimizer=optimizers.Adam(learning_rate=0.0001, beta_1=0.9, beta_2=0.999, epsilon=None, decay=0.0, amsgrad=False),\n",
        "              metrics=['accuracy'])\n",
        "\n",
        "model.summary()"
      ],
      "execution_count": 27,
      "outputs": [
        {
          "output_type": "stream",
          "text": [
            "Downloading data from https://storage.googleapis.com/tensorflow/keras-applications/inception_resnet_v2/inception_resnet_v2_weights_tf_dim_ordering_tf_kernels_notop.h5\n",
            "219062272/219055592 [==============================] - 2s 0us/step\n",
            "Model: \"sequential\"\n",
            "_________________________________________________________________\n",
            "Layer (type)                 Output Shape              Param #   \n",
            "=================================================================\n",
            "inception_resnet_v2 (Functio (None, 2, 2, 1536)        54336736  \n",
            "_________________________________________________________________\n",
            "global_average_pooling2d (Gl (None, 1536)              0         \n",
            "_________________________________________________________________\n",
            "dropout (Dropout)            (None, 1536)              0         \n",
            "_________________________________________________________________\n",
            "dense (Dense)                (None, 2)                 3074      \n",
            "=================================================================\n",
            "Total params: 54,339,810\n",
            "Trainable params: 54,279,266\n",
            "Non-trainable params: 60,544\n",
            "_________________________________________________________________\n"
          ],
          "name": "stdout"
        }
      ]
    },
    {
      "cell_type": "code",
      "metadata": {
        "colab": {
          "base_uri": "https://localhost:8080/"
        },
        "id": "lhUuhMXn3gvY",
        "outputId": "3163fc26-8188-4c09-d580-e413a846f1e7"
      },
      "source": [
        "#stop training when a monitored metric has stopped improving\n",
        "#early_stopping = EarlyStopping(monitor='val_loss',\n",
        "                              # min_delta=1,#minimum change in the monitored quantity to qualify as an improvement\n",
        "                              # patience=3, #number of epochs with no improvement after which training will be stopped\n",
        "                              # verbose=1, \n",
        "                              # mode='auto')\n",
        "#class myCallback(tf.keras.callbacks.Callback):\n",
        " # def on_epoch_end(self, epoch, logs={}):\n",
        "  #  if(logs.get('accuracy')>0.99):\n",
        "  #    print(\"\\nReached 99.9% accuracy so stopping training!\")\n",
        "   #   self.model.stop_training = True\n",
        "      \n",
        "#callbacks = myCallback()                             \n",
        "\n",
        "epochs = 10\n",
        "batch_size = 100\n",
        "history = model.fit(X_train, Y_train, batch_size, epochs, validation_data = (X_test, Y_test), verbose = 1, shuffle=True)"
      ],
      "execution_count": 28,
      "outputs": [
        {
          "output_type": "stream",
          "text": [
            "Epoch 1/10\n",
            "1/1 [==============================] - 65s 65s/step - loss: 0.8700 - accuracy: 0.3684 - val_loss: 1.0048 - val_accuracy: 0.3750\n",
            "Epoch 2/10\n",
            "1/1 [==============================] - 39s 39s/step - loss: 0.6741 - accuracy: 0.5895 - val_loss: 0.8660 - val_accuracy: 0.4062\n",
            "Epoch 3/10\n",
            "1/1 [==============================] - 39s 39s/step - loss: 0.4854 - accuracy: 0.8632 - val_loss: 0.7627 - val_accuracy: 0.5625\n",
            "Epoch 4/10\n",
            "1/1 [==============================] - 38s 38s/step - loss: 0.3725 - accuracy: 0.9579 - val_loss: 0.6658 - val_accuracy: 0.7500\n",
            "Epoch 5/10\n",
            "1/1 [==============================] - 39s 39s/step - loss: 0.2992 - accuracy: 0.9789 - val_loss: 0.5805 - val_accuracy: 0.8281\n",
            "Epoch 6/10\n",
            "1/1 [==============================] - 39s 39s/step - loss: 0.2093 - accuracy: 1.0000 - val_loss: 0.5105 - val_accuracy: 0.8438\n",
            "Epoch 7/10\n",
            "1/1 [==============================] - 39s 39s/step - loss: 0.1506 - accuracy: 1.0000 - val_loss: 0.4535 - val_accuracy: 0.8906\n",
            "Epoch 8/10\n",
            "1/1 [==============================] - 39s 39s/step - loss: 0.1030 - accuracy: 1.0000 - val_loss: 0.4068 - val_accuracy: 0.9062\n",
            "Epoch 9/10\n",
            "1/1 [==============================] - 39s 39s/step - loss: 0.0751 - accuracy: 1.0000 - val_loss: 0.3683 - val_accuracy: 0.9062\n",
            "Epoch 10/10\n",
            "1/1 [==============================] - 39s 39s/step - loss: 0.0462 - accuracy: 1.0000 - val_loss: 0.3362 - val_accuracy: 0.9219\n"
          ],
          "name": "stdout"
        }
      ]
    },
    {
      "cell_type": "code",
      "metadata": {
        "colab": {
          "base_uri": "https://localhost:8080/",
          "height": 286
        },
        "id": "cycKh4GO-p2m",
        "outputId": "4e108483-3981-48b3-a738-012db135b2d6"
      },
      "source": [
        " #plotting the accuracy and loss\n",
        "\n",
        "f, (ax1, ax2) = plt.subplots(1, 2, figsize=(20, 4))\n",
        "f.subplots_adjust(top=0.85, wspace=0.3)\n",
        "\n",
        "epoch_list = list(range(1,epochs+1))\n",
        "ax1.plot(epoch_list, history.history['accuracy'], label='Train Accuracy')\n",
        "ax1.plot(epoch_list, history.history['val_accuracy'], label='Validation Accuracy')\n",
        "ax1.set_xticks(np.arange(0, epochs+1, 1))\n",
        "ax1.set_ylabel('Accuracy Value')\n",
        "ax1.set_xlabel('Epoch #')\n",
        "ax1.set_title('Accuracy')\n",
        "l1 = ax1.legend(loc=\"best\")\n",
        "\n",
        "ax2.plot(epoch_list, history.history['loss'], label='Train Loss')\n",
        "ax2.plot(epoch_list, history.history['val_loss'], label='Validation Loss')\n",
        "ax2.set_xticks(np.arange(0, epochs+1, 1))\n",
        "ax2.set_ylabel('Loss Value')\n",
        "ax2.set_xlabel('Epoch #')\n",
        "ax2.set_title('Loss')\n",
        "l2 = ax2.legend(loc=\"best\")"
      ],
      "execution_count": 29,
      "outputs": [
        {
          "output_type": "display_data",
          "data": {
            "image/png": "[encoded data removed]",
            "text/plain": [
              "<Figure size 1440x288 with 2 Axes>"
            ]
          },
          "metadata": {
            "tags": [],
            "needs_background": "light"
          }
        }
      ]
    },
    {
      "cell_type": "code",
      "metadata": {
        "colab": {
          "base_uri": "https://localhost:8080/",
          "height": 458
        },
        "id": "BuaYB5UECGFZ",
        "outputId": "b612a94d-3a64-4737-bc98-3ad96b46b4e0"
      },
      "source": [
        "#Output confusion matrix\n",
        "\n",
        "def print_confusion_matrix(y_true, y_pred):\n",
        "    cm = confusion_matrix(y_true, y_pred)\n",
        "    print('True positive = ', cm[0][0])\n",
        "    print('False positive = ', cm[0][1])\n",
        "    print('False negative = ', cm[1][0])\n",
        "    print('True negative = ', cm[1][1])\n",
        "    print('\\n')\n",
        "    df_cm = pd.DataFrame(cm, range(2), range(2))\n",
        "    sn.set(font_scale=1.4) # for label size\n",
        "    sn.heatmap(df_cm, annot=True, annot_kws={\"size\": 16}) # font size\n",
        "    plt.ylabel('Actual label', size = 20)\n",
        "    plt.xlabel('Predicted label', size = 20)\n",
        "    plt.xticks(np.arange(2), ['Fake', 'Real'], size = 16)\n",
        "    plt.yticks(np.arange(2), ['Fake', 'Real'], size = 16)\n",
        "    plt.ylim([2, 0])\n",
        "    plt.show()\n",
        "    \n",
        "print_confusion_matrix(Y_original, model.predict_classes(X))"
      ],
      "execution_count": 30,
      "outputs": [
        {
          "output_type": "stream",
          "text": [
            "/usr/local/lib/python3.7/dist-packages/tensorflow/python/keras/engine/sequential.py:450: UserWarning: `model.predict_classes()` is deprecated and will be removed after 2021-01-01. Please use instead:* `np.argmax(model.predict(x), axis=-1)`,   if your model does multi-class classification   (e.g. if it uses a `softmax` last-layer activation).* `(model.predict(x) > 0.5).astype(\"int32\")`,   if your model does binary classification   (e.g. if it uses a `sigmoid` last-layer activation).\n",
            "  warnings.warn('`model.predict_classes()` is deprecated and '\n"
          ],
          "name": "stderr"
        },
        {
          "output_type": "stream",
          "text": [
            "True positive =  104\n",
            "False positive =  5\n",
            "False negative =  9\n",
            "True negative =  41\n",
            "\n",
            "\n"
          ],
          "name": "stdout"
        },
        {
          "output_type": "display_data",
          "data": {
            "image/png": "[encoded data removed]",
            "text/plain": [
              "<Figure size 432x288 with 2 Axes>"
            ]
          },
          "metadata": {
            "tags": []
          }
        }
      ]
    },
    {
      "cell_type": "code",
      "metadata": {
        "id": "G9s4sYjjDrwN"
      },
      "source": [
        "model.save('deepfake-detection-model.h5')"
      ],
      "execution_count": 31,
      "outputs": []
    },
    {
      "cell_type": "markdown",
      "metadata": {
        "id": "nUR3sVAnHtuj"
      },
      "source": [
        "DEEPFAKE DETECTION (loading the model and inputting a video to detect whether it is fake or not)"
      ]
    },
    {
      "cell_type": "code",
      "metadata": {
        "id": "BYOUBIA2DsY7"
      },
      "source": [
        "from tensorflow.keras.models import load_model"
      ],
      "execution_count": 32,
      "outputs": []
    },
    {
      "cell_type": "code",
      "metadata": {
        "colab": {
          "base_uri": "https://localhost:8080/",
          "height": 35
        },
        "id": "tQmvL709Qw4J",
        "outputId": "99735a75-e27b-4e71-a0a2-3033aec1cde1"
      },
      "source": [
        "tf.__version__\n"
      ],
      "execution_count": 33,
      "outputs": [
        {
          "output_type": "execute_result",
          "data": {
            "application/vnd.google.colaboratory.intrinsic+json": {
              "type": "string"
            },
            "text/plain": [
              "'2.4.1'"
            ]
          },
          "metadata": {
            "tags": []
          },
          "execution_count": 33
        }
      ]
    },
    {
      "cell_type": "code",
      "metadata": {
        "id": "EZPCL-JsQzCX"
      },
      "source": [
        "model = load_model('deepfake-detection-model.h5')\n"
      ],
      "execution_count": 40,
      "outputs": []
    },
    {
      "cell_type": "code",
      "metadata": {
        "id": "oVWBS037RHKc"
      },
      "source": [
        "from PIL import Image, ImageChops, ImageEnhance\n",
        "from tensorflow.keras.models import load_model\n",
        "from tensorflow.keras.preprocessing.image import img_to_array, load_img\n",
        "import glob\n",
        "\n",
        "tested_data=[]\n",
        "test_frame_path = '/content/drive/MyDrive/DeepfakeProject/test_videos/'\n",
        "#test_data_list = [f for f in os.listdir(test_frame_path) if f.endswith('.mp4')]\n",
        "test_data_list = glob.glob(test_frame_path + '*.mp4')\n",
        "for vid in test_data_list:\n",
        "    count = 0\n",
        "    test_capture = cv2.VideoCapture(os.path.join(test_frame_path, vid)) \n",
        "    test_frame_rate = test_capture.get(5) \n",
        "    while test_capture.isOpened(): \n",
        "        test_frame_ID = test_capture.get(1) \n",
        "        test_ret, test_frame = test_capture.read() \n",
        "        if test_ret != True:\n",
        "          break\n",
        "        if test_frame_ID % ((int(test_frame_rate)+1)*1) == 0:\n",
        "            test_face_rects, test_scores, test_idx = detector.run(test_frame, 0)\n",
        "            for i, d in enumerate(test_face_rects):\n",
        "                test_x1 = d.left()\n",
        "                test_y1 = d.top()\n",
        "                test_x2 = d.right()\n",
        "                test_y2 = d.bottom()\n",
        "                crop_test_image = test_frame[test_y1:test_y2, test_x1:test_x2]\n",
        "                cv2.imwrite('/content/drive/MyDrive/DeepfakeProject/dataset/test/'+vid.split('.')[0]+'_'+str(count)+'.png', cv2.resize(crop_image, (128, 128)))\n",
        "                #test_data = tested_data.append(img_to_array(Image.open(data_directory+'/test/'+)).flatten() / 255.0)\n",
        "                #test_data = test_data.reshape(-1,128,128,3)\n",
        "                #print(model.predict_classes(test_data))"
      ],
      "execution_count": 45,
      "outputs": []
    }
  ]
}